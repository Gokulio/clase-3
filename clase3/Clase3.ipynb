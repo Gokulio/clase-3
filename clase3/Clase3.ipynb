{
  "nbformat": 4,
  "nbformat_minor": 0,
  "metadata": {
    "colab": {
      "provenance": []
    },
    "kernelspec": {
      "name": "python3",
      "display_name": "Python 3"
    },
    "language_info": {
      "name": "python"
    }
  },
  "cells": [
    {
      "cell_type": "code",
      "execution_count": null,
      "metadata": {
        "id": "tZdnHW7ppIwE"
      },
      "outputs": [],
      "source": []
    },
    {
      "cell_type": "markdown",
      "source": [
        "# Clase 3\n",
        "\n",
        "* Condicionales\n",
        "\n",
        "* Listas\n",
        "\n",
        "* **Diccionarios**\n",
        "\n",
        "* Loops\n",
        "\n",
        "# Header 1\n",
        "\n",
        "## Header 2\n",
        "\n",
        "### Header 3\n",
        "\n",
        "##### Header 6"
      ],
      "metadata": {
        "id": "vuOL2TIGpOdu"
      }
    },
    {
      "cell_type": "markdown",
      "source": [
        "# Condicionales"
      ],
      "metadata": {
        "id": "iG8jvKF6qZPt"
      }
    },
    {
      "cell_type": "code",
      "source": [
        "a = 2\n",
        "b =5"
      ],
      "metadata": {
        "id": "JrXLEQt9qF_D"
      },
      "execution_count": null,
      "outputs": []
    },
    {
      "cell_type": "code",
      "source": [
        "if a > b :\n",
        "  print (\"a es mayor que b\")\n",
        "\n",
        "else:\n",
        "  print (\"b es mayor o igual que a\")"
      ],
      "metadata": {
        "colab": {
          "base_uri": "https://localhost:8080/"
        },
        "id": "zfyPWGhcqpiV",
        "outputId": "47828eb4-3e75-43e0-9531-ec9cbf716119"
      },
      "execution_count": null,
      "outputs": [
        {
          "output_type": "stream",
          "name": "stdout",
          "text": [
            "b es mayor o igual que a\n"
          ]
        }
      ]
    },
    {
      "cell_type": "code",
      "source": [
        "a = 13\n",
        "b = 14\n",
        "\n",
        "if a > b:\n",
        "  print (\"a es mayor que b\")\n",
        "  print (\"el valor de a es: \",a)\n",
        "  print (f\"el valor de b es: {b}\")\n",
        "\n",
        "elif a < b:\n",
        "  print (\"a es menor que b\")\n",
        "  print (\"el valor de a es: \",a)\n",
        "  print (f\"el valor de b es: {b}\")\n",
        "\n",
        "else:\n",
        "  print(\"son iguales\")\n",
        "  print(f\"el valor de a y b es {a}\")"
      ],
      "metadata": {
        "colab": {
          "base_uri": "https://localhost:8080/"
        },
        "id": "m_shwp15tTqf",
        "outputId": "5d06f3d0-a25c-4f62-84ca-79d05b325eac"
      },
      "execution_count": null,
      "outputs": [
        {
          "output_type": "stream",
          "name": "stdout",
          "text": [
            "a es menor que b\n",
            "el valor de a es:  13\n",
            "el valor de b es: 14\n"
          ]
        }
      ]
    },
    {
      "cell_type": "code",
      "source": [
        "print(\"el valor de a es \",a)"
      ],
      "metadata": {
        "colab": {
          "base_uri": "https://localhost:8080/"
        },
        "id": "qVIWRwBLvdoO",
        "outputId": "fc377429-7194-40c6-d4d7-ba080e5f5ecb"
      },
      "execution_count": null,
      "outputs": [
        {
          "output_type": "stream",
          "name": "stdout",
          "text": [
            "el valor de a es  13\n"
          ]
        }
      ]
    },
    {
      "cell_type": "code",
      "source": [
        "a = 100\n",
        "b = 56642\n",
        "f\"el valor de a es {a} y el valor de b es {b}\""
      ],
      "metadata": {
        "colab": {
          "base_uri": "https://localhost:8080/",
          "height": 36
        },
        "id": "t5l8PMx4wNoR",
        "outputId": "e7ed988d-3cf3-4177-cb7c-f34c4a06189d"
      },
      "execution_count": null,
      "outputs": [
        {
          "output_type": "execute_result",
          "data": {
            "text/plain": [
              "'el valor de a es 100 y el valor de b es 56642'"
            ],
            "application/vnd.google.colaboratory.intrinsic+json": {
              "type": "string"
            }
          },
          "metadata": {},
          "execution_count": 23
        }
      ]
    },
    {
      "cell_type": "markdown",
      "source": [
        "Queremos que el usuario nos de 2 números"
      ],
      "metadata": {
        "id": "AuKyt2zhAA3G"
      }
    },
    {
      "cell_type": "code",
      "source": [
        "a = input(\"puedes darme un numero entero por favor\")\n",
        "b = input(\"puedes darme otro numero entero por favor\")\n",
        "\n",
        "# castear ---> cambiar el tipo de dato\n",
        "\n",
        "# de lo anterior vamos a recibir cadenas de texto, entonces vamos a cambiar el tipo de dato a entero\n",
        "\n",
        "print (type(a))\n",
        "\n",
        "# vamos a castear nuestras variables a y b (que son strings) a enteros (int)\n",
        "\n",
        "a = int(a)\n",
        "b = int(b)\n",
        "\n",
        "print (type(a))\n"
      ],
      "metadata": {
        "colab": {
          "base_uri": "https://localhost:8080/"
        },
        "id": "isn7wG3QAJ2U",
        "outputId": "bb9e302e-1f2f-4d19-cc3e-e93a5b1ce2c0"
      },
      "execution_count": 6,
      "outputs": [
        {
          "output_type": "stream",
          "name": "stdout",
          "text": [
            "puedes darme un numero entero por favor30\n",
            "puedes darme otro numero entero por favor20\n",
            "<class 'str'>\n",
            "<class 'int'>\n"
          ]
        }
      ]
    },
    {
      "cell_type": "code",
      "source": [
        "print(a)\n",
        "print(b)\n"
      ],
      "metadata": {
        "colab": {
          "base_uri": "https://localhost:8080/"
        },
        "id": "owUYQ5bkBbWS",
        "outputId": "8309e900-1a46-4296-9a2f-8b78ffe88a24"
      },
      "execution_count": 7,
      "outputs": [
        {
          "output_type": "stream",
          "name": "stdout",
          "text": [
            "30\n",
            "20\n"
          ]
        }
      ]
    },
    {
      "cell_type": "code",
      "source": [
        "a = int (input(\"puedes darme un numero entero por favor \"))\n",
        "b = int (input(\"puedes darme otro numero entero por favor \"))\n",
        "\n",
        "if a != b: #a es distinto de b\n",
        "   if a > b:\n",
        "    print(\"a es mayor que b\")\n",
        "\n",
        "   else:\n",
        "    print(\"b es mayor que a\")\n",
        "\n",
        "else:\n",
        "  print(\"son iguales\")"
      ],
      "metadata": {
        "colab": {
          "base_uri": "https://localhost:8080/"
        },
        "id": "7lddo9_3Bk5n",
        "outputId": "49f51a68-d1b6-46e7-8c12-8e79fbae7851"
      },
      "execution_count": 25,
      "outputs": [
        {
          "output_type": "stream",
          "name": "stdout",
          "text": [
            "puedes darme un numero entero por favor 20\n",
            "puedes darme otro numero entero por favor 20\n",
            "son iguales\n"
          ]
        }
      ]
    },
    {
      "cell_type": "markdown",
      "source": [
        "Listas"
      ],
      "metadata": {
        "id": "G2DF577eEl62"
      }
    },
    {
      "cell_type": "code",
      "source": [
        "ejemplo = [1, \"a\", True]\n",
        "ejemplo2 = [10, 11, 12]\n",
        "\n",
        "type(ejemplo)"
      ],
      "metadata": {
        "colab": {
          "base_uri": "https://localhost:8080/"
        },
        "id": "v0JhVyMYEngW",
        "outputId": "0b758051-86d7-42a7-d027-0ca82415601a"
      },
      "execution_count": 26,
      "outputs": [
        {
          "output_type": "execute_result",
          "data": {
            "text/plain": [
              "list"
            ]
          },
          "metadata": {},
          "execution_count": 26
        }
      ]
    },
    {
      "cell_type": "code",
      "source": [
        "string_list = [\"j\",\"u\",\"l\",\"i\",\"o\"]"
      ],
      "metadata": {
        "id": "9-zfzuL5Gk6m"
      },
      "execution_count": 27,
      "outputs": []
    },
    {
      "cell_type": "code",
      "source": [
        "#primer elemento\n",
        "string_list[0]"
      ],
      "metadata": {
        "colab": {
          "base_uri": "https://localhost:8080/",
          "height": 36
        },
        "id": "0N-_OQLBGvx7",
        "outputId": "9909bd39-d808-4df0-ba3c-a22a20361350"
      },
      "execution_count": 28,
      "outputs": [
        {
          "output_type": "execute_result",
          "data": {
            "text/plain": [
              "'j'"
            ],
            "application/vnd.google.colaboratory.intrinsic+json": {
              "type": "string"
            }
          },
          "metadata": {},
          "execution_count": 28
        }
      ]
    },
    {
      "cell_type": "code",
      "source": [
        "string_list[-1]"
      ],
      "metadata": {
        "colab": {
          "base_uri": "https://localhost:8080/",
          "height": 36
        },
        "id": "xY_Ko95VG15p",
        "outputId": "c797f94e-e01b-46c7-82d7-7492770d6d01"
      },
      "execution_count": 38,
      "outputs": [
        {
          "output_type": "execute_result",
          "data": {
            "text/plain": [
              "'o'"
            ],
            "application/vnd.google.colaboratory.intrinsic+json": {
              "type": "string"
            }
          },
          "metadata": {},
          "execution_count": 38
        }
      ]
    },
    {
      "cell_type": "code",
      "source": [
        "Gatos =[\"Munra\",\"Garras\",\"Carlo\",\"Choper\",\"Cookie\",\"Bombon\"]"
      ],
      "metadata": {
        "id": "aDHNyVoPHHGw"
      },
      "execution_count": 47,
      "outputs": []
    },
    {
      "cell_type": "code",
      "source": [
        "Gatos[0]"
      ],
      "metadata": {
        "colab": {
          "base_uri": "https://localhost:8080/",
          "height": 36
        },
        "id": "ziMUbMnMHt19",
        "outputId": "cceea4a7-3149-4472-9d4f-fa85ccf7345d"
      },
      "execution_count": 48,
      "outputs": [
        {
          "output_type": "execute_result",
          "data": {
            "text/plain": [
              "'Munra'"
            ],
            "application/vnd.google.colaboratory.intrinsic+json": {
              "type": "string"
            }
          },
          "metadata": {},
          "execution_count": 48
        }
      ]
    },
    {
      "cell_type": "code",
      "source": [
        "# longitus de la lista ---> numero de elementos\n",
        "len(Gatos)"
      ],
      "metadata": {
        "colab": {
          "base_uri": "https://localhost:8080/"
        },
        "id": "cbh5FLZmH0SI",
        "outputId": "c320aa5e-9bad-4652-f68f-35dbc40d0121"
      },
      "execution_count": 49,
      "outputs": [
        {
          "output_type": "execute_result",
          "data": {
            "text/plain": [
              "6"
            ]
          },
          "metadata": {},
          "execution_count": 49
        }
      ]
    },
    {
      "cell_type": "code",
      "source": [
        "string_list = [\"j\",\"u\",\"l\",\"i\",\"o\"]\n",
        "\n",
        "len(string_list)"
      ],
      "metadata": {
        "colab": {
          "base_uri": "https://localhost:8080/"
        },
        "id": "5IVeegVDILtt",
        "outputId": "aa5230e7-60c8-415d-f80b-51cb03272900"
      },
      "execution_count": 50,
      "outputs": [
        {
          "output_type": "execute_result",
          "data": {
            "text/plain": [
              "5"
            ]
          },
          "metadata": {},
          "execution_count": 50
        }
      ]
    },
    {
      "cell_type": "code",
      "source": [
        "string_list[-1] = \"a\"\n",
        "\n",
        "string_list"
      ],
      "metadata": {
        "colab": {
          "base_uri": "https://localhost:8080/"
        },
        "id": "dyBcOtPTIRVb",
        "outputId": "70571174-7ea2-499c-bb80-a77432dc3b6f"
      },
      "execution_count": 54,
      "outputs": [
        {
          "output_type": "execute_result",
          "data": {
            "text/plain": [
              "['j', 'u', 'l', 'i', 'a']"
            ]
          },
          "metadata": {},
          "execution_count": 54
        }
      ]
    },
    {
      "cell_type": "code",
      "source": [
        "string_list [0] = \"J\"\n",
        "string_list"
      ],
      "metadata": {
        "colab": {
          "base_uri": "https://localhost:8080/"
        },
        "id": "r17BVK_TIgJ7",
        "outputId": "518da126-6037-4d32-ed78-4145bd838700"
      },
      "execution_count": 58,
      "outputs": [
        {
          "output_type": "execute_result",
          "data": {
            "text/plain": [
              "['J', 'u', 'l', 'i', 'a']"
            ]
          },
          "metadata": {},
          "execution_count": 58
        }
      ]
    },
    {
      "cell_type": "code",
      "source": [
        "Gatos =[\"Munra\",\"Garras\",\"Carlo\",\"Choper\",\"Cookie\",\"Bombon\"]"
      ],
      "metadata": {
        "id": "NdvkyN3bJFqj"
      },
      "execution_count": 59,
      "outputs": []
    },
    {
      "cell_type": "code",
      "source": [
        "len(Gatos)"
      ],
      "metadata": {
        "colab": {
          "base_uri": "https://localhost:8080/"
        },
        "id": "1rO8RknVJH-L",
        "outputId": "6bcc62fa-a574-4522-b260-9d4946aa4c36"
      },
      "execution_count": 60,
      "outputs": [
        {
          "output_type": "execute_result",
          "data": {
            "text/plain": [
              "6"
            ]
          },
          "metadata": {},
          "execution_count": 60
        }
      ]
    },
    {
      "cell_type": "code",
      "source": [
        "Gatos[5]"
      ],
      "metadata": {
        "colab": {
          "base_uri": "https://localhost:8080/",
          "height": 36
        },
        "id": "RpKpeb4OJMed",
        "outputId": "d6ae1eec-038f-416a-fc6f-5fb4c26aab19"
      },
      "execution_count": 61,
      "outputs": [
        {
          "output_type": "execute_result",
          "data": {
            "text/plain": [
              "'Bombon'"
            ],
            "application/vnd.google.colaboratory.intrinsic+json": {
              "type": "string"
            }
          },
          "metadata": {},
          "execution_count": 61
        }
      ]
    },
    {
      "cell_type": "code",
      "source": [
        "Gatos[len(Gatos)-1]"
      ],
      "metadata": {
        "colab": {
          "base_uri": "https://localhost:8080/",
          "height": 36
        },
        "id": "U-ZKfPkxJV8c",
        "outputId": "b20d64c7-27aa-4f27-f378-ed483e897797"
      },
      "execution_count": 62,
      "outputs": [
        {
          "output_type": "execute_result",
          "data": {
            "text/plain": [
              "'Bombon'"
            ],
            "application/vnd.google.colaboratory.intrinsic+json": {
              "type": "string"
            }
          },
          "metadata": {},
          "execution_count": 62
        }
      ]
    },
    {
      "cell_type": "code",
      "source": [
        "# funcion index\n",
        "\n",
        "Gatos.index(\"Choper\") # el elemento \"x\" está en el indice 3"
      ],
      "metadata": {
        "colab": {
          "base_uri": "https://localhost:8080/"
        },
        "id": "RGdWzAm6J3QU",
        "outputId": "2439264d-d6c7-4598-915f-e16b794e094e"
      },
      "execution_count": 63,
      "outputs": [
        {
          "output_type": "execute_result",
          "data": {
            "text/plain": [
              "3"
            ]
          },
          "metadata": {},
          "execution_count": 63
        }
      ]
    },
    {
      "cell_type": "code",
      "source": [
        "Gatos.index (\"Garras\")"
      ],
      "metadata": {
        "colab": {
          "base_uri": "https://localhost:8080/"
        },
        "id": "eRKy40rYKNEn",
        "outputId": "ad32da75-5aab-475c-d356-4b2f2ccb16d8"
      },
      "execution_count": 65,
      "outputs": [
        {
          "output_type": "execute_result",
          "data": {
            "text/plain": [
              "1"
            ]
          },
          "metadata": {},
          "execution_count": 65
        }
      ]
    },
    {
      "cell_type": "code",
      "source": [
        "# append: agregar elementos\n",
        "# pop elimina el ultimo elemento\n",
        "\n",
        "Gatos.append(\"Mabel\")"
      ],
      "metadata": {
        "id": "a5IORO9OKgeT"
      },
      "execution_count": 66,
      "outputs": []
    },
    {
      "cell_type": "code",
      "source": [
        "Gatos"
      ],
      "metadata": {
        "colab": {
          "base_uri": "https://localhost:8080/"
        },
        "id": "If2dQHEOK6Qf",
        "outputId": "90e6670a-3862-4c87-cbca-01ca18920c85"
      },
      "execution_count": 67,
      "outputs": [
        {
          "output_type": "execute_result",
          "data": {
            "text/plain": [
              "['Munra', 'Garras', 'Carlo', 'Choper', 'Cookie', 'Bombon', 'Mabel']"
            ]
          },
          "metadata": {},
          "execution_count": 67
        }
      ]
    },
    {
      "cell_type": "code",
      "source": [
        "Gatos [-1]"
      ],
      "metadata": {
        "colab": {
          "base_uri": "https://localhost:8080/",
          "height": 36
        },
        "id": "x7iHKfgpK_ZV",
        "outputId": "034f9c9a-089c-4746-852d-3ba5d2e14fe6"
      },
      "execution_count": 68,
      "outputs": [
        {
          "output_type": "execute_result",
          "data": {
            "text/plain": [
              "'Mabel'"
            ],
            "application/vnd.google.colaboratory.intrinsic+json": {
              "type": "string"
            }
          },
          "metadata": {},
          "execution_count": 68
        }
      ]
    },
    {
      "cell_type": "code",
      "source": [
        "Gatos.pop()"
      ],
      "metadata": {
        "colab": {
          "base_uri": "https://localhost:8080/",
          "height": 36
        },
        "id": "5EB_eIZkLIaa",
        "outputId": "883a36ad-e792-4221-c7a2-1913fb8205ae"
      },
      "execution_count": 70,
      "outputs": [
        {
          "output_type": "execute_result",
          "data": {
            "text/plain": [
              "'Mabel'"
            ],
            "application/vnd.google.colaboratory.intrinsic+json": {
              "type": "string"
            }
          },
          "metadata": {},
          "execution_count": 70
        }
      ]
    },
    {
      "cell_type": "code",
      "source": [
        "Gatos"
      ],
      "metadata": {
        "colab": {
          "base_uri": "https://localhost:8080/"
        },
        "id": "h7ig8M44LNAv",
        "outputId": "f92ec694-c420-4664-ad4a-13ea00df59bb"
      },
      "execution_count": 71,
      "outputs": [
        {
          "output_type": "execute_result",
          "data": {
            "text/plain": [
              "['Munra', 'Garras', 'Carlo', 'Choper', 'Cookie', 'Bombon']"
            ]
          },
          "metadata": {},
          "execution_count": 71
        }
      ]
    },
    {
      "cell_type": "code",
      "source": [
        "Gatos[2:]"
      ],
      "metadata": {
        "colab": {
          "base_uri": "https://localhost:8080/"
        },
        "id": "c_VtaaF5Lbtg",
        "outputId": "276ec096-2748-4833-a4ed-9b085191be39"
      },
      "execution_count": 74,
      "outputs": [
        {
          "output_type": "execute_result",
          "data": {
            "text/plain": [
              "['Carlo', 'Choper', 'Cookie', 'Bombon']"
            ]
          },
          "metadata": {},
          "execution_count": 74
        }
      ]
    },
    {
      "cell_type": "code",
      "source": [
        "Gatos[1:3]"
      ],
      "metadata": {
        "colab": {
          "base_uri": "https://localhost:8080/"
        },
        "id": "iOdEv263LxWA",
        "outputId": "280480cc-0ad7-4007-869a-51d306ae6e5f"
      },
      "execution_count": 78,
      "outputs": [
        {
          "output_type": "execute_result",
          "data": {
            "text/plain": [
              "['Garras', 'Carlo']"
            ]
          },
          "metadata": {},
          "execution_count": 78
        }
      ]
    },
    {
      "cell_type": "code",
      "source": [
        "len (Gatos)"
      ],
      "metadata": {
        "colab": {
          "base_uri": "https://localhost:8080/"
        },
        "id": "RZh38GYnMEuj",
        "outputId": "d63147e3-15d3-4cef-a26a-34ad3d6ae3c4"
      },
      "execution_count": 81,
      "outputs": [
        {
          "output_type": "execute_result",
          "data": {
            "text/plain": [
              "6"
            ]
          },
          "metadata": {},
          "execution_count": 81
        }
      ]
    },
    {
      "cell_type": "code",
      "source": [
        "Gatos"
      ],
      "metadata": {
        "colab": {
          "base_uri": "https://localhost:8080/"
        },
        "id": "CxZPgod8MPG6",
        "outputId": "3216e9a7-4ba1-4e8d-ef0c-977b5e8d970d"
      },
      "execution_count": 82,
      "outputs": [
        {
          "output_type": "execute_result",
          "data": {
            "text/plain": [
              "['Munra', 'Garras', 'Carlo', 'Choper', 'Cookie', 'Bombon']"
            ]
          },
          "metadata": {},
          "execution_count": 82
        }
      ]
    },
    {
      "cell_type": "code",
      "source": [
        "Gatos[0:5]"
      ],
      "metadata": {
        "colab": {
          "base_uri": "https://localhost:8080/"
        },
        "id": "lvTn6rUTMQpW",
        "outputId": "a0d7512f-f95a-4855-c747-85656252d6aa"
      },
      "execution_count": 88,
      "outputs": [
        {
          "output_type": "execute_result",
          "data": {
            "text/plain": [
              "['Munra', 'Garras', 'Carlo', 'Choper', 'Cookie']"
            ]
          },
          "metadata": {},
          "execution_count": 88
        }
      ]
    },
    {
      "cell_type": "code",
      "source": [
        "start = 1\n",
        "stop = 20\n",
        "step = 2\n",
        "list(range(start, stop, step))"
      ],
      "metadata": {
        "colab": {
          "base_uri": "https://localhost:8080/"
        },
        "id": "7y0Xvn-dNGSo",
        "outputId": "e7981dd9-8c1b-41f6-e42b-cfe50dba3bf8"
      },
      "execution_count": 89,
      "outputs": [
        {
          "output_type": "execute_result",
          "data": {
            "text/plain": [
              "[1, 3, 5, 7, 9, 11, 13, 15, 17, 19]"
            ]
          },
          "metadata": {},
          "execution_count": 89
        }
      ]
    },
    {
      "cell_type": "markdown",
      "source": [
        "Diccionarios"
      ],
      "metadata": {
        "id": "JzPA1DmnNjdq"
      }
    },
    {
      "cell_type": "code",
      "source": [
        "#   {key:value, key2:value2,...}"
      ],
      "metadata": {
        "id": "y9v1HykCNlG6"
      },
      "execution_count": null,
      "outputs": []
    },
    {
      "cell_type": "code",
      "source": [
        "contactos =   {\n",
        "    \"Omi\":\"123456\",\n",
        "    \"Ale\":\"235789\",\n",
        "    \"Benny\":\"1548466\",\n",
        "    \"Jimenez\":\"1128488494\"\n",
        "}"
      ],
      "metadata": {
        "id": "r0Edy4qaNoIU"
      },
      "execution_count": 91,
      "outputs": []
    },
    {
      "cell_type": "code",
      "source": [
        "# acceder al contacto de ALe\n",
        "\n",
        "contactos[\"Ale\"]"
      ],
      "metadata": {
        "colab": {
          "base_uri": "https://localhost:8080/",
          "height": 36
        },
        "id": "wdS8ylSDOJe2",
        "outputId": "9b306beb-1873-4846-cf12-31f285561219"
      },
      "execution_count": 92,
      "outputs": [
        {
          "output_type": "execute_result",
          "data": {
            "text/plain": [
              "'235789'"
            ],
            "application/vnd.google.colaboratory.intrinsic+json": {
              "type": "string"
            }
          },
          "metadata": {},
          "execution_count": 92
        }
      ]
    },
    {
      "cell_type": "code",
      "source": [
        "# cambiar el contacto de Omi\n",
        "\n",
        "contactos[\"Omi\"] = int(contactos[\"Omi\"])\n",
        "\n",
        "contactos"
      ],
      "metadata": {
        "colab": {
          "base_uri": "https://localhost:8080/"
        },
        "id": "Q2fGRH7JOUJS",
        "outputId": "f7b25058-d290-4ada-add0-da322865f6f2"
      },
      "execution_count": 107,
      "outputs": [
        {
          "output_type": "execute_result",
          "data": {
            "text/plain": [
              "{'Omi': 123456,\n",
              " 'Ale': '235789',\n",
              " 'Benny': '1548466',\n",
              " 'Jimenez': '1128488494',\n",
              " 'omi': 123456}"
            ]
          },
          "metadata": {},
          "execution_count": 107
        }
      ]
    },
    {
      "cell_type": "code",
      "source": [
        "# para saber los keys que tiene mi diccionario\n",
        "contactos.keys()"
      ],
      "metadata": {
        "colab": {
          "base_uri": "https://localhost:8080/"
        },
        "id": "dYKzyV_AOvCp",
        "outputId": "01de0ece-db39-464e-f835-b78325eb682f"
      },
      "execution_count": 109,
      "outputs": [
        {
          "output_type": "execute_result",
          "data": {
            "text/plain": [
              "dict_keys(['Omi', 'Ale', 'Benny', 'Jimenez', 'omi'])"
            ]
          },
          "metadata": {},
          "execution_count": 109
        }
      ]
    },
    {
      "cell_type": "code",
      "source": [
        "contactos.values()"
      ],
      "metadata": {
        "colab": {
          "base_uri": "https://localhost:8080/"
        },
        "id": "kaIZhc-pQj_f",
        "outputId": "9e6f8031-55a2-41cd-e456-3ab26f5088bd"
      },
      "execution_count": 111,
      "outputs": [
        {
          "output_type": "execute_result",
          "data": {
            "text/plain": [
              "dict_values([123456, '235789', '1548466', '1128488494', 123456])"
            ]
          },
          "metadata": {},
          "execution_count": 111
        }
      ]
    },
    {
      "cell_type": "code",
      "source": [],
      "metadata": {
        "id": "pMku9NgGQjtq"
      },
      "execution_count": null,
      "outputs": []
    },
    {
      "cell_type": "code",
      "source": [
        "type(contactos.keys())"
      ],
      "metadata": {
        "colab": {
          "base_uri": "https://localhost:8080/"
        },
        "id": "V_qVRCncO9-X",
        "outputId": "dc04dc7b-489a-4198-eac5-fb2baba7be3c"
      },
      "execution_count": 110,
      "outputs": [
        {
          "output_type": "execute_result",
          "data": {
            "text/plain": [
              "dict_keys"
            ]
          },
          "metadata": {},
          "execution_count": 110
        }
      ]
    },
    {
      "cell_type": "code",
      "source": [
        "(contactos.keys())[0]"
      ],
      "metadata": {
        "colab": {
          "base_uri": "https://localhost:8080/",
          "height": 141
        },
        "id": "iWXTZ_YYQsPz",
        "outputId": "d3bddca4-33a6-4857-b524-f6d0df70238c"
      },
      "execution_count": 114,
      "outputs": [
        {
          "output_type": "error",
          "ename": "TypeError",
          "evalue": "'dict_keys' object is not subscriptable",
          "traceback": [
            "\u001b[0;31m---------------------------------------------------------------------------\u001b[0m",
            "\u001b[0;31mTypeError\u001b[0m                                 Traceback (most recent call last)",
            "\u001b[0;32m<ipython-input-114-dfa47f3afcc8>\u001b[0m in \u001b[0;36m<cell line: 0>\u001b[0;34m()\u001b[0m\n\u001b[0;32m----> 1\u001b[0;31m \u001b[0;34m(\u001b[0m\u001b[0mcontactos\u001b[0m\u001b[0;34m.\u001b[0m\u001b[0mkeys\u001b[0m\u001b[0;34m(\u001b[0m\u001b[0;34m)\u001b[0m\u001b[0;34m)\u001b[0m\u001b[0;34m[\u001b[0m\u001b[0;36m0\u001b[0m\u001b[0;34m]\u001b[0m\u001b[0;34m\u001b[0m\u001b[0;34m\u001b[0m\u001b[0m\n\u001b[0m",
            "\u001b[0;31mTypeError\u001b[0m: 'dict_keys' object is not subscriptable"
          ]
        }
      ]
    },
    {
      "cell_type": "code",
      "source": [
        "# acceder a la primera key\n",
        "list_keys_contactos = list(contactos.keys())\n",
        "list_keys_contactos[0]"
      ],
      "metadata": {
        "colab": {
          "base_uri": "https://localhost:8080/",
          "height": 36
        },
        "id": "YMLLAjTFPOAh",
        "outputId": "3310c9f6-a711-41f8-edf2-5eb9509d35b4"
      },
      "execution_count": 101,
      "outputs": [
        {
          "output_type": "execute_result",
          "data": {
            "text/plain": [
              "'Omi'"
            ],
            "application/vnd.google.colaboratory.intrinsic+json": {
              "type": "string"
            }
          },
          "metadata": {},
          "execution_count": 101
        }
      ]
    },
    {
      "cell_type": "code",
      "source": [
        "list_keys_contactos [-1]"
      ],
      "metadata": {
        "colab": {
          "base_uri": "https://localhost:8080/",
          "height": 36
        },
        "id": "IA7THH4gPkOp",
        "outputId": "fdc7a2cd-e8cd-4acb-9f97-f9bb3961868e"
      },
      "execution_count": 104,
      "outputs": [
        {
          "output_type": "execute_result",
          "data": {
            "text/plain": [
              "'omi'"
            ],
            "application/vnd.google.colaboratory.intrinsic+json": {
              "type": "string"
            }
          },
          "metadata": {},
          "execution_count": 104
        }
      ]
    },
    {
      "cell_type": "code",
      "source": [
        "contactos['Ale']"
      ],
      "metadata": {
        "colab": {
          "base_uri": "https://localhost:8080/",
          "height": 36
        },
        "id": "ch7lhzcHP5yD",
        "outputId": "5f3347d0-5051-4ba0-9561-d4d81561cf4f"
      },
      "execution_count": 105,
      "outputs": [
        {
          "output_type": "execute_result",
          "data": {
            "text/plain": [
              "'235789'"
            ],
            "application/vnd.google.colaboratory.intrinsic+json": {
              "type": "string"
            }
          },
          "metadata": {},
          "execution_count": 105
        }
      ]
    },
    {
      "cell_type": "code",
      "source": [
        "dic_comp =   {\n",
        "    \"nombre\":\"julio\",\n",
        "    \"edad\":37,\n",
        "    \"aptitudes\": [\"ajedres\",\"rubik\",\"leer\"],\n",
        "    \"deudas\": {\n",
        "        \"moto\":100000,\n",
        "        \"Nacho\":6000,\n",
        "        \"refri\":20000\n",
        "    }\n",
        "}"
      ],
      "metadata": {
        "id": "tnGAWzboRFWl"
      },
      "execution_count": 119,
      "outputs": []
    },
    {
      "cell_type": "code",
      "source": [
        "dic_comp.keys()"
      ],
      "metadata": {
        "colab": {
          "base_uri": "https://localhost:8080/"
        },
        "id": "sU2tnGz3Rzfm",
        "outputId": "5aff8e1f-05e9-4121-fd87-19866e5869f5"
      },
      "execution_count": 120,
      "outputs": [
        {
          "output_type": "execute_result",
          "data": {
            "text/plain": [
              "dict_keys(['nombre', 'edad', 'aptitudes', 'deudas'])"
            ]
          },
          "metadata": {},
          "execution_count": 120
        }
      ]
    },
    {
      "cell_type": "code",
      "source": [
        "dic_comp[\"nombre\"]"
      ],
      "metadata": {
        "colab": {
          "base_uri": "https://localhost:8080/",
          "height": 36
        },
        "id": "p8BSiwWMSM2h",
        "outputId": "74b9f38a-004e-4bb8-a52c-3b43c4358875"
      },
      "execution_count": 121,
      "outputs": [
        {
          "output_type": "execute_result",
          "data": {
            "text/plain": [
              "'julio'"
            ],
            "application/vnd.google.colaboratory.intrinsic+json": {
              "type": "string"
            }
          },
          "metadata": {},
          "execution_count": 121
        }
      ]
    },
    {
      "cell_type": "code",
      "source": [
        "dic_comp['aptitudes']"
      ],
      "metadata": {
        "colab": {
          "base_uri": "https://localhost:8080/"
        },
        "id": "WaPNnDI-SXMY",
        "outputId": "8776c3cd-ea7a-4aac-df7f-fcdf4e033e43"
      },
      "execution_count": 122,
      "outputs": [
        {
          "output_type": "execute_result",
          "data": {
            "text/plain": [
              "['ajedres', 'rubik', 'leer']"
            ]
          },
          "metadata": {},
          "execution_count": 122
        }
      ]
    },
    {
      "cell_type": "code",
      "source": [
        "dic_comp[\"aptitudes\"][0]"
      ],
      "metadata": {
        "colab": {
          "base_uri": "https://localhost:8080/",
          "height": 36
        },
        "id": "XSXdIOfbSccK",
        "outputId": "0e35e790-2074-4a7e-a820-0575392118dc"
      },
      "execution_count": 125,
      "outputs": [
        {
          "output_type": "execute_result",
          "data": {
            "text/plain": [
              "'ajedres'"
            ],
            "application/vnd.google.colaboratory.intrinsic+json": {
              "type": "string"
            }
          },
          "metadata": {},
          "execution_count": 125
        }
      ]
    }
  ]
}