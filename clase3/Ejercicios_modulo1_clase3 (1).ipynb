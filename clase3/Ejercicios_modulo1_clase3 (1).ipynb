{
  "nbformat": 4,
  "nbformat_minor": 0,
  "metadata": {
    "colab": {
      "provenance": []
    },
    "kernelspec": {
      "name": "python3",
      "display_name": "Python 3"
    },
    "language_info": {
      "name": "python"
    }
  },
  "cells": [
    {
      "cell_type": "code",
      "execution_count": 55,
      "metadata": {
        "colab": {
          "base_uri": "https://localhost:8080/"
        },
        "id": "voGwThePG_sl",
        "outputId": "addf4f7f-7670-4d7f-b8f1-161b19eede1f"
      },
      "outputs": [
        {
          "output_type": "stream",
          "name": "stdout",
          "text": [
            "Escribe un numero diferente de cero: 23\n",
            "23 El número es impar.\n"
          ]
        }
      ],
      "source": [
        "# número par, impar que no sea cero\n",
        "\n",
        "a = int (input(\"Escribe un numero diferente de cero: \"))\n",
        "\n",
        "if a == 0:\n",
        "  print (\"dame un numero diferente de cero\")\n",
        "\n",
        "elif a % 2 == 0:\n",
        "    print (a, 'El número es par.')\n",
        "else:\n",
        "    print (a, 'El número es impar.')"
      ]
    },
    {
      "cell_type": "code",
      "source": [
        "# número positivo, negativo o cero.\n",
        "\n",
        "a = int (input(\"escribe un numero\"))\n",
        "\n",
        "\n",
        "if a == 0:\n",
        "  print (a, \"es cero\")\n",
        "\n",
        "elif a > 0:\n",
        "  print (a,\"es positivo\")\n",
        "\n",
        "else:\n",
        "  print (a, \"es negativo\")"
      ],
      "metadata": {
        "colab": {
          "base_uri": "https://localhost:8080/"
        },
        "id": "x1ArRFgXSlNr",
        "outputId": "a14bbd35-c33f-404e-eaee-c21535d034c6"
      },
      "execution_count": 56,
      "outputs": [
        {
          "output_type": "stream",
          "name": "stdout",
          "text": [
            "escribe un numero15\n",
            "15 es positivo\n"
          ]
        }
      ]
    },
    {
      "cell_type": "code",
      "source": [
        "# Solicite al usuario que ingrese las calificaciones (asumiendo que las calificaciones están entre 0 y 100) e imprima la calificación correspondiente.\n",
        "\n",
        "# Por debajo de 25 - F\n",
        "# 25 a 45 - E\n",
        "# 45 a 60 - D\n",
        "# 60 a 75 - C\n",
        "# 75 a 90 - B\n",
        "# Por encima de 90 - A\n",
        "\n",
        "\n",
        "calificacion = int (input(\"ingresa tu calificación en una escala del 0 al 100: \"))\n",
        "\n",
        "\n",
        "if 0 <= calificacion < 25:\n",
        "  print (\"F\")\n",
        "\n",
        "if 25 <= calificacion <46:\n",
        "    print (\"E\")\n",
        "\n",
        "if 46 <= calificacion <61:\n",
        "  print (\"D\")\n",
        "\n",
        "if 61 <= calificacion <76:\n",
        "  print (\"C\")\n",
        "\n",
        "if 76 <= calificacion <91:\n",
        "  print (\"B\")\n",
        "\n",
        "if 91 <= calificacion <101:\n",
        "  print (\"A\")\n"
      ],
      "metadata": {
        "colab": {
          "base_uri": "https://localhost:8080/"
        },
        "id": "0IfaP1ggXZx8",
        "outputId": "72614209-16bc-4556-f8f8-0d69ee5de605"
      },
      "execution_count": 62,
      "outputs": [
        {
          "output_type": "stream",
          "name": "stdout",
          "text": [
            "ingresa tu calificación en una escala del 0 al 100: 100\n",
            "A\n"
          ]
        }
      ]
    },
    {
      "cell_type": "code",
      "source": [
        "# primero = [1, 2, 34, 5, 3, 12, 9, 8, 67, 89, 98, 90, 39, 21, 45, 46, 23, 13]\n",
        "\n",
        "# ¿Cuántos elementos hay en la lista?\n",
        "# Usando índices, averigüe cuál es el primer elemento de la lista.\n",
        "# Usando índices, averigüe cuál es el último elemento de la lista.\n",
        "# ¿Cuál es el índice del elemento 90 de la lista?\n",
        "#¿Cuáles son los primeros 8 elementos de la lista?\n",
        "# Agregar los elementos 100 y 110 a la lista\n",
        "# ¿Puede una lista tener dos o más elementos iguales? Intente definir una nueva lista con algunos valores similares y vea si funciona.\n",
        "\n"
      ],
      "metadata": {
        "id": "nMkaK8bNeqFc"
      },
      "execution_count": null,
      "outputs": []
    }
  ]
}