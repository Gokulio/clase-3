{
  "nbformat": 4,
  "nbformat_minor": 0,
  "metadata": {
    "colab": {
      "provenance": []
    },
    "kernelspec": {
      "name": "python3",
      "display_name": "Python 3"
    },
    "language_info": {
      "name": "python"
    }
  },
  "cells": [
    {
      "cell_type": "markdown",
      "source": [
        "Comprension de listas (hara que nuestro código se programe en menos líneas.)"
      ],
      "metadata": {
        "id": "q9DejoZViRPU"
      }
    },
    {
      "cell_type": "code",
      "source": [
        "#crear una lista con 10 valores\n",
        "\n",
        "lista_clase1 = []\n",
        "\n",
        "for i in range (10):\n",
        "  lista_clase1.append(i)\n",
        "\n",
        "lista_clase1"
      ],
      "metadata": {
        "colab": {
          "base_uri": "https://localhost:8080/"
        },
        "id": "9dP-8qd0iTl9",
        "outputId": "3089d085-2e21-4f97-fa51-1889f8910344"
      },
      "execution_count": 3,
      "outputs": [
        {
          "output_type": "execute_result",
          "data": {
            "text/plain": [
              "[0, 1, 2, 3, 4, 5, 6, 7, 8, 9]"
            ]
          },
          "metadata": {},
          "execution_count": 3
        }
      ]
    },
    {
      "cell_type": "code",
      "source": [
        "# si queremos que los multiplique por 2\n",
        "\n",
        "lista_clase1 = []\n",
        "\n",
        "for i in range (10):\n",
        "  i = i*2\n",
        "  lista_clase1.append(i) #.append es para agregar elementos\n",
        "\n",
        "lista_clase1"
      ],
      "metadata": {
        "colab": {
          "base_uri": "https://localhost:8080/"
        },
        "id": "EF_lGFNKjFAE",
        "outputId": "fbfec428-341e-4c75-b222-da86037ed538"
      },
      "execution_count": 5,
      "outputs": [
        {
          "output_type": "execute_result",
          "data": {
            "text/plain": [
              "[0, 2, 4, 6, 8, 10, 12, 14, 16, 18]"
            ]
          },
          "metadata": {},
          "execution_count": 5
        }
      ]
    },
    {
      "cell_type": "code",
      "source": [
        "# utilizando \"for\" para crear lista de comprension con menos lineas.\n",
        "\n",
        "lista_for = [i for i in range (10)]\n",
        "lista_for"
      ],
      "metadata": {
        "colab": {
          "base_uri": "https://localhost:8080/"
        },
        "id": "-GzpDHoxjj67",
        "outputId": "aa070dc5-5835-4c00-884f-03217d2b4354"
      },
      "execution_count": 7,
      "outputs": [
        {
          "output_type": "execute_result",
          "data": {
            "text/plain": [
              "[0, 1, 2, 3, 4, 5, 6, 7, 8, 9]"
            ]
          },
          "metadata": {},
          "execution_count": 7
        }
      ]
    },
    {
      "cell_type": "code",
      "source": [
        "lista_for = [i*2 for i in range (10)]\n",
        "lista_for"
      ],
      "metadata": {
        "colab": {
          "base_uri": "https://localhost:8080/"
        },
        "id": "vkunOAWUkFZH",
        "outputId": "5c525df0-7e89-4017-a109-35bbe1b4c202"
      },
      "execution_count": 9,
      "outputs": [
        {
          "output_type": "execute_result",
          "data": {
            "text/plain": [
              "[0, 2, 4, 6, 8, 10, 12, 14, 16, 18]"
            ]
          },
          "metadata": {},
          "execution_count": 9
        }
      ]
    },
    {
      "cell_type": "code",
      "source": [
        "lista_mas_grande = [i for i in range (101)]\n",
        "lista_mas_grande"
      ],
      "metadata": {
        "colab": {
          "base_uri": "https://localhost:8080/"
        },
        "collapsed": true,
        "id": "CfLJjVkRkQ4i",
        "outputId": "3e236a8e-5264-44cb-f7c4-afcf436d31d5"
      },
      "execution_count": 58,
      "outputs": [
        {
          "output_type": "execute_result",
          "data": {
            "text/plain": [
              "[0,\n",
              " 1,\n",
              " 2,\n",
              " 3,\n",
              " 4,\n",
              " 5,\n",
              " 6,\n",
              " 7,\n",
              " 8,\n",
              " 9,\n",
              " 10,\n",
              " 11,\n",
              " 12,\n",
              " 13,\n",
              " 14,\n",
              " 15,\n",
              " 16,\n",
              " 17,\n",
              " 18,\n",
              " 19,\n",
              " 20,\n",
              " 21,\n",
              " 22,\n",
              " 23,\n",
              " 24,\n",
              " 25,\n",
              " 26,\n",
              " 27,\n",
              " 28,\n",
              " 29,\n",
              " 30,\n",
              " 31,\n",
              " 32,\n",
              " 33,\n",
              " 34,\n",
              " 35,\n",
              " 36,\n",
              " 37,\n",
              " 38,\n",
              " 39,\n",
              " 40,\n",
              " 41,\n",
              " 42,\n",
              " 43,\n",
              " 44,\n",
              " 45,\n",
              " 46,\n",
              " 47,\n",
              " 48,\n",
              " 49,\n",
              " 50,\n",
              " 51,\n",
              " 52,\n",
              " 53,\n",
              " 54,\n",
              " 55,\n",
              " 56,\n",
              " 57,\n",
              " 58,\n",
              " 59,\n",
              " 60,\n",
              " 61,\n",
              " 62,\n",
              " 63,\n",
              " 64,\n",
              " 65,\n",
              " 66,\n",
              " 67,\n",
              " 68,\n",
              " 69,\n",
              " 70,\n",
              " 71,\n",
              " 72,\n",
              " 73,\n",
              " 74,\n",
              " 75,\n",
              " 76,\n",
              " 77,\n",
              " 78,\n",
              " 79,\n",
              " 80,\n",
              " 81,\n",
              " 82,\n",
              " 83,\n",
              " 84,\n",
              " 85,\n",
              " 86,\n",
              " 87,\n",
              " 88,\n",
              " 89,\n",
              " 90,\n",
              " 91,\n",
              " 92,\n",
              " 93,\n",
              " 94,\n",
              " 95,\n",
              " 96,\n",
              " 97,\n",
              " 98,\n",
              " 99,\n",
              " 100]"
            ]
          },
          "metadata": {},
          "execution_count": 58
        }
      ]
    },
    {
      "cell_type": "code",
      "source": [
        "# imprimir la lista solo con numeros menores que 5\n",
        "\n",
        "lista_mas_grande = [i for i in range (101) if i <5]\n",
        "lista_mas_grande"
      ],
      "metadata": {
        "colab": {
          "base_uri": "https://localhost:8080/"
        },
        "id": "L5vRejmWk2K2",
        "outputId": "52b7a056-bb89-4006-e550-c903891e2a4e"
      },
      "execution_count": 15,
      "outputs": [
        {
          "output_type": "execute_result",
          "data": {
            "text/plain": [
              "[0, 1, 2, 3, 4]"
            ]
          },
          "metadata": {},
          "execution_count": 15
        }
      ]
    },
    {
      "cell_type": "code",
      "source": [
        "# imprimir la lista solo con numeros mayor que 10 y menor a 50\n",
        "\n",
        "lista_mas_grande = [i for i in range (101) if (i>=10 and i<=50)]\n",
        "lista_mas_grande"
      ],
      "metadata": {
        "colab": {
          "base_uri": "https://localhost:8080/"
        },
        "collapsed": true,
        "id": "J-2MgAR2lclP",
        "outputId": "b1b7136d-9eaf-47fb-c660-66462bd74ea0"
      },
      "execution_count": 18,
      "outputs": [
        {
          "output_type": "execute_result",
          "data": {
            "text/plain": [
              "[10,\n",
              " 11,\n",
              " 12,\n",
              " 13,\n",
              " 14,\n",
              " 15,\n",
              " 16,\n",
              " 17,\n",
              " 18,\n",
              " 19,\n",
              " 20,\n",
              " 21,\n",
              " 22,\n",
              " 23,\n",
              " 24,\n",
              " 25,\n",
              " 26,\n",
              " 27,\n",
              " 28,\n",
              " 29,\n",
              " 30,\n",
              " 31,\n",
              " 32,\n",
              " 33,\n",
              " 34,\n",
              " 35,\n",
              " 36,\n",
              " 37,\n",
              " 38,\n",
              " 39,\n",
              " 40,\n",
              " 41,\n",
              " 42,\n",
              " 43,\n",
              " 44,\n",
              " 45,\n",
              " 46,\n",
              " 47,\n",
              " 48,\n",
              " 49,\n",
              " 50]"
            ]
          },
          "metadata": {},
          "execution_count": 18
        }
      ]
    },
    {
      "cell_type": "code",
      "source": [
        "# lista anidada (sus elementos son listas)\n",
        "\n",
        "lista_1 = [(1,2,3),(4,5,6),(7,8,9)]\n",
        "\n",
        "# objetivo que se muestren así = [1,2,3,4,5,6,7,8,9]"
      ],
      "metadata": {
        "id": "uElOTPuomGyY"
      },
      "execution_count": 45,
      "outputs": []
    },
    {
      "cell_type": "code",
      "source": [
        "lista_nueva = []\n",
        "\n",
        "# paso 1: entrar a los elementos de la lista_1\n",
        "\n",
        "for j in range(len(lista_1)):\n",
        "  print(lista_1[j])"
      ],
      "metadata": {
        "colab": {
          "base_uri": "https://localhost:8080/"
        },
        "id": "UKkxG2GUon3Z",
        "outputId": "647865a6-7378-4545-f89e-9580127288e4"
      },
      "execution_count": 33,
      "outputs": [
        {
          "output_type": "stream",
          "name": "stdout",
          "text": [
            "(1, 2, 3)\n",
            "(4, 5, 6)\n",
            "(7, 8, 9)\n"
          ]
        }
      ]
    },
    {
      "cell_type": "code",
      "source": [
        "# paso 2 entrar a los elementos de las listas que estan dentro de la lista_1\n",
        "\n",
        "for j in lista_1:\n",
        "  for i in j:\n",
        "    print(i)"
      ],
      "metadata": {
        "colab": {
          "base_uri": "https://localhost:8080/"
        },
        "collapsed": true,
        "id": "B73PZ61rpfuj",
        "outputId": "4709c6a1-176e-4a4a-a493-a343d99a233f"
      },
      "execution_count": 35,
      "outputs": [
        {
          "output_type": "stream",
          "name": "stdout",
          "text": [
            "1\n",
            "2\n",
            "3\n",
            "4\n",
            "5\n",
            "6\n",
            "7\n",
            "8\n",
            "9\n"
          ]
        }
      ]
    },
    {
      "cell_type": "code",
      "source": [
        "# ejemplo con lista más corta\n",
        "\n",
        "lista_2 = [(3,4,5)]\n",
        "\n",
        "for i in lista_2:\n",
        "  print(i)\n",
        "  for j in i:\n",
        "    print(f\"elemento: {j}\")"
      ],
      "metadata": {
        "colab": {
          "base_uri": "https://localhost:8080/"
        },
        "id": "JegqSXXlrbTT",
        "outputId": "d5f94f47-72de-4b88-ad13-693ef8e221d5"
      },
      "execution_count": 40,
      "outputs": [
        {
          "output_type": "stream",
          "name": "stdout",
          "text": [
            "(3, 4, 5)\n",
            "elemento: 3\n",
            "elemento: 4\n",
            "elemento: 5\n"
          ]
        }
      ]
    },
    {
      "cell_type": "code",
      "source": [
        "# imprimir la lista usando for para usar menos lineas de programación\n",
        "\n",
        "\n",
        "lista_1 = [(\"a\",\"b\",\"c\"),(\"d\",\"e\",\"f\"),(\"g\",\"h\",\"p\")]\n",
        "lista_vacia = []\n",
        "\n",
        "\n",
        "for i in lista_1:\n",
        "  for j in i:\n",
        "    lista_vacia.append(j)\n",
        "\n",
        "lista_vacia"
      ],
      "metadata": {
        "colab": {
          "base_uri": "https://localhost:8080/"
        },
        "id": "Fe3FBjRZsQ0T",
        "outputId": "097cd857-1a4f-4f22-bb51-2f65154dda52"
      },
      "execution_count": 53,
      "outputs": [
        {
          "output_type": "execute_result",
          "data": {
            "text/plain": [
              "['a', 'b', 'c', 'd', 'e', 'f', 'g', 'h', 'p']"
            ]
          },
          "metadata": {},
          "execution_count": 53
        }
      ]
    },
    {
      "cell_type": "code",
      "source": [
        "[j for i in lista_1 for j in i]"
      ],
      "metadata": {
        "colab": {
          "base_uri": "https://localhost:8080/"
        },
        "id": "iZTjcRbXt-HR",
        "outputId": "28469015-b352-4304-a8a1-d010b240cf1d"
      },
      "execution_count": 54,
      "outputs": [
        {
          "output_type": "execute_result",
          "data": {
            "text/plain": [
              "['a', 'b', 'c', 'd', 'e', 'f', 'g', 'h', 'p']"
            ]
          },
          "metadata": {},
          "execution_count": 54
        }
      ]
    },
    {
      "cell_type": "code",
      "source": [
        "# use una lista de comprensión para crear e imprimir una lista de numeros consecutivos del 1 al 50\n",
        "\n",
        "lista_50 = [i for i in range (51) if i>0]\n",
        "lista_50"
      ],
      "metadata": {
        "colab": {
          "base_uri": "https://localhost:8080/"
        },
        "collapsed": true,
        "id": "qqGDHe7Fuid0",
        "outputId": "9aa11176-13b3-489a-d092-d90b32dba6aa"
      },
      "execution_count": 64,
      "outputs": [
        {
          "output_type": "execute_result",
          "data": {
            "text/plain": [
              "[1,\n",
              " 2,\n",
              " 3,\n",
              " 4,\n",
              " 5,\n",
              " 6,\n",
              " 7,\n",
              " 8,\n",
              " 9,\n",
              " 10,\n",
              " 11,\n",
              " 12,\n",
              " 13,\n",
              " 14,\n",
              " 15,\n",
              " 16,\n",
              " 17,\n",
              " 18,\n",
              " 19,\n",
              " 20,\n",
              " 21,\n",
              " 22,\n",
              " 23,\n",
              " 24,\n",
              " 25,\n",
              " 26,\n",
              " 27,\n",
              " 28,\n",
              " 29,\n",
              " 30,\n",
              " 31,\n",
              " 32,\n",
              " 33,\n",
              " 34,\n",
              " 35,\n",
              " 36,\n",
              " 37,\n",
              " 38,\n",
              " 39,\n",
              " 40,\n",
              " 41,\n",
              " 42,\n",
              " 43,\n",
              " 44,\n",
              " 45,\n",
              " 46,\n",
              " 47,\n",
              " 48,\n",
              " 49,\n",
              " 50]"
            ]
          },
          "metadata": {},
          "execution_count": 64
        }
      ]
    },
    {
      "cell_type": "code",
      "source": [
        "# use una lista de comprensión para crear e imprimir una lista de numeros pares que comience en 2 y termine en 200.\n",
        "# % devuelve el residuo, es decir todos los numeros que divididos entre 2 tengan residuo 0 los va imprimir\n",
        "\n",
        "lista_pares = [i for i in range (201) if i>1 and i%2 ==0]\n",
        "lista_pares"
      ],
      "metadata": {
        "colab": {
          "base_uri": "https://localhost:8080/"
        },
        "collapsed": true,
        "id": "uTP53J0pvgAy",
        "outputId": "27aef437-ac18-438a-ee43-01353d3752a8"
      },
      "execution_count": 77,
      "outputs": [
        {
          "output_type": "execute_result",
          "data": {
            "text/plain": [
              "[2,\n",
              " 4,\n",
              " 6,\n",
              " 8,\n",
              " 10,\n",
              " 12,\n",
              " 14,\n",
              " 16,\n",
              " 18,\n",
              " 20,\n",
              " 22,\n",
              " 24,\n",
              " 26,\n",
              " 28,\n",
              " 30,\n",
              " 32,\n",
              " 34,\n",
              " 36,\n",
              " 38,\n",
              " 40,\n",
              " 42,\n",
              " 44,\n",
              " 46,\n",
              " 48,\n",
              " 50,\n",
              " 52,\n",
              " 54,\n",
              " 56,\n",
              " 58,\n",
              " 60,\n",
              " 62,\n",
              " 64,\n",
              " 66,\n",
              " 68,\n",
              " 70,\n",
              " 72,\n",
              " 74,\n",
              " 76,\n",
              " 78,\n",
              " 80,\n",
              " 82,\n",
              " 84,\n",
              " 86,\n",
              " 88,\n",
              " 90,\n",
              " 92,\n",
              " 94,\n",
              " 96,\n",
              " 98,\n",
              " 100,\n",
              " 102,\n",
              " 104,\n",
              " 106,\n",
              " 108,\n",
              " 110,\n",
              " 112,\n",
              " 114,\n",
              " 116,\n",
              " 118,\n",
              " 120,\n",
              " 122,\n",
              " 124,\n",
              " 126,\n",
              " 128,\n",
              " 130,\n",
              " 132,\n",
              " 134,\n",
              " 136,\n",
              " 138,\n",
              " 140,\n",
              " 142,\n",
              " 144,\n",
              " 146,\n",
              " 148,\n",
              " 150,\n",
              " 152,\n",
              " 154,\n",
              " 156,\n",
              " 158,\n",
              " 160,\n",
              " 162,\n",
              " 164,\n",
              " 166,\n",
              " 168,\n",
              " 170,\n",
              " 172,\n",
              " 174,\n",
              " 176,\n",
              " 178,\n",
              " 180,\n",
              " 182,\n",
              " 184,\n",
              " 186,\n",
              " 188,\n",
              " 190,\n",
              " 192,\n",
              " 194,\n",
              " 196,\n",
              " 198,\n",
              " 200]"
            ]
          },
          "metadata": {},
          "execution_count": 77
        }
      ]
    },
    {
      "cell_type": "markdown",
      "source": [
        "Funciones lambda\n",
        "\n",
        "se define de la siguiente forma:\n",
        "\n",
        "lambda parametro(s): expresión\n",
        "\n",
        "ejemplos:\n",
        "lambda x: x+1\n",
        "num_doble = lambda num: num*2"
      ],
      "metadata": {
        "id": "Vb9MSIbW0RME"
      }
    },
    {
      "cell_type": "code",
      "source": [
        "num_doble = lambda num: num*2\n",
        "\n",
        "num_doble(5)"
      ],
      "metadata": {
        "colab": {
          "base_uri": "https://localhost:8080/"
        },
        "id": "oDldNpJP0Unw",
        "outputId": "35398599-6e8d-4540-a1f5-df11ff07d39a"
      },
      "execution_count": 78,
      "outputs": [
        {
          "output_type": "execute_result",
          "data": {
            "text/plain": [
              "10"
            ]
          },
          "metadata": {},
          "execution_count": 78
        }
      ]
    },
    {
      "cell_type": "code",
      "source": [
        "suma_num = lambda x,y: x+y\n",
        "\n",
        "suma_num(2,10)"
      ],
      "metadata": {
        "colab": {
          "base_uri": "https://localhost:8080/"
        },
        "id": "8jtOB6Cb1F8e",
        "outputId": "83590167-fbec-446e-dc5b-909e948872fe"
      },
      "execution_count": 79,
      "outputs": [
        {
          "output_type": "execute_result",
          "data": {
            "text/plain": [
              "12"
            ]
          },
          "metadata": {},
          "execution_count": 79
        }
      ]
    },
    {
      "cell_type": "code",
      "source": [
        "# limpieza con funcion lambda\n",
        "\n",
        "telefono = \"+52 442-104-3274\"\n",
        "\n",
        "limpieza_string = lambda telefono: telefono.replace(\"+52\",\"\",).replace(\"-\",\"\")\n",
        "\n",
        "limpieza_string(telefono)"
      ],
      "metadata": {
        "colab": {
          "base_uri": "https://localhost:8080/",
          "height": 36
        },
        "id": "vF-D3Hjj2FSX",
        "outputId": "ee43f8ea-3e35-4583-d978-e27e3cdb2c60"
      },
      "execution_count": 86,
      "outputs": [
        {
          "output_type": "execute_result",
          "data": {
            "text/plain": [
              "' 4421043274'"
            ],
            "application/vnd.google.colaboratory.intrinsic+json": {
              "type": "string"
            }
          },
          "metadata": {},
          "execution_count": 86
        }
      ]
    },
    {
      "cell_type": "code",
      "source": [
        "# division\n",
        "\n",
        "division = lambda x,y: x/y if (y!=0) else 0"
      ],
      "metadata": {
        "id": "MCdeONBk3QZL"
      },
      "execution_count": 87,
      "outputs": []
    },
    {
      "cell_type": "code",
      "source": [
        "division (10,2)"
      ],
      "metadata": {
        "colab": {
          "base_uri": "https://localhost:8080/"
        },
        "id": "kEW3amPW4i3p",
        "outputId": "2b3950b9-a184-4e05-a535-43338727467b"
      },
      "execution_count": 92,
      "outputs": [
        {
          "output_type": "execute_result",
          "data": {
            "text/plain": [
              "5.0"
            ]
          },
          "metadata": {},
          "execution_count": 92
        }
      ]
    },
    {
      "cell_type": "code",
      "source": [
        "clases = [\"calculo\", \"Filosofia\", \"Arte-Historia\", \"Computacion-ciencia\"]"
      ],
      "metadata": {
        "id": "60jRok7Y4tV0"
      },
      "execution_count": 3,
      "outputs": []
    },
    {
      "cell_type": "code",
      "source": [
        "limpieza_string = lambda string: string.replace(\"-\",\" \")\n",
        "\n",
        "clases_limpieza = [limpieza_string(i) for i in clases]\n",
        "\n",
        "clases_limpieza"
      ],
      "metadata": {
        "colab": {
          "base_uri": "https://localhost:8080/"
        },
        "id": "kraYQjetn6An",
        "outputId": "5367a168-a09d-4500-bc04-65127784aba1"
      },
      "execution_count": 4,
      "outputs": [
        {
          "output_type": "execute_result",
          "data": {
            "text/plain": [
              "['calculo', 'Filosofia', 'Arte Historia', 'Computacion ciencia']"
            ]
          },
          "metadata": {},
          "execution_count": 4
        }
      ]
    },
    {
      "cell_type": "code",
      "source": [
        "# funcion zip junta 2 listas en pares\n",
        "\n",
        "lista1 = [1,2,3,10]\n",
        "lista2 = [2,3,4,5]\n",
        "lista3 = zip(lista1, lista2)\n",
        "list(lista3)"
      ],
      "metadata": {
        "colab": {
          "base_uri": "https://localhost:8080/"
        },
        "id": "nJ5_ijDNszaT",
        "outputId": "4348cc41-ae0f-4a29-b672-cda4973771b5"
      },
      "execution_count": 36,
      "outputs": [
        {
          "output_type": "execute_result",
          "data": {
            "text/plain": [
              "[(1, 2), (2, 3), (3, 4), (10, 5)]"
            ]
          },
          "metadata": {},
          "execution_count": 36
        }
      ]
    },
    {
      "cell_type": "code",
      "source": [
        "# comparar los elementos de cada dupla y verificar si el primero es mayor que el segundo\n",
        "# la salida es: false, false, false , true\n",
        "if 1 > 2:\n",
        "  print(\"true\")\n",
        "else:\n",
        "  print(\"false\")\n",
        "\n",
        "if 2 > 3:\n",
        "  print(\"true\")\n",
        "else:\n",
        "  print(\"false\")\n",
        "\n",
        "if 3 > 4:\n",
        "  print(\"true\")\n",
        "else:\n",
        "  print(\"false\")\n",
        "\n",
        "if 10 > 5:\n",
        "  print(\"true\")\n",
        "else:\n",
        "  print(\"false\")\n"
      ],
      "metadata": {
        "colab": {
          "base_uri": "https://localhost:8080/"
        },
        "id": "gEK4rkGOtlYN",
        "outputId": "5b23ebc7-b229-47bf-f779-7a3990c85a90"
      },
      "execution_count": 39,
      "outputs": [
        {
          "output_type": "stream",
          "name": "stdout",
          "text": [
            "false\n",
            "false\n",
            "false\n",
            "true\n"
          ]
        }
      ]
    },
    {
      "cell_type": "code",
      "source": [
        "# funcion zip junta 2 listas en pares\n",
        "\n",
        "lista1 = [1,2,3,10]\n",
        "lista2 = [2,3,4,5]\n",
        "list (zip(lista1, lista2))"
      ],
      "metadata": {
        "colab": {
          "base_uri": "https://localhost:8080/"
        },
        "id": "MV7EjAX6O1BL",
        "outputId": "f2e5bef5-c53d-40c3-e37c-e597fff1ac79"
      },
      "execution_count": 42,
      "outputs": [
        {
          "output_type": "execute_result",
          "data": {
            "text/plain": [
              "[(1, 2), (2, 3), (3, 4), (10, 5)]"
            ]
          },
          "metadata": {},
          "execution_count": 42
        }
      ]
    },
    {
      "cell_type": "code",
      "source": [
        "# respuesta clase\n",
        "# para solo imprimir los numeros\n",
        "for x,y in zip(lista1,lista2):\n",
        "  print(x,y)"
      ],
      "metadata": {
        "colab": {
          "base_uri": "https://localhost:8080/"
        },
        "id": "qbCa0wbORXAj",
        "outputId": "2a4f2d75-532b-457b-fdd0-4cba2032a44b"
      },
      "execution_count": 46,
      "outputs": [
        {
          "output_type": "stream",
          "name": "stdout",
          "text": [
            "1 2\n",
            "2 3\n",
            "3 4\n",
            "10 5\n"
          ]
        }
      ]
    },
    {
      "cell_type": "code",
      "source": [
        "# respuesta clase\n",
        "# usando función lambda\n",
        "# compare = lambda ###: print(\"True\") if ### else print(\"False\")\n",
        "# for ### in zip(list1,list2):\n",
        "    # compare(###)\n",
        "\n",
        "compare = lambda x,y: True if (x>y) else False\n",
        "\n",
        "[compare(x,y) for x,y in zip(lista1, lista2)]\n",
        "\n",
        "# se puede hacer de muchas formas mas"
      ],
      "metadata": {
        "colab": {
          "base_uri": "https://localhost:8080/"
        },
        "id": "UdNq-Wb3NwNE",
        "outputId": "338ef9e1-d218-40c1-bb47-960663ce543c"
      },
      "execution_count": 32,
      "outputs": [
        {
          "output_type": "execute_result",
          "data": {
            "text/plain": [
              "[False, False, False, True]"
            ]
          },
          "metadata": {},
          "execution_count": 32
        }
      ]
    },
    {
      "cell_type": "code",
      "source": [
        "# otra forma de resolverlo\n",
        "\n",
        "# paso 1 crear la funcion de comparacion\n",
        "compare = lambda numero1, numero2: True if (numero1 > numero2) else False\n"
      ],
      "metadata": {
        "id": "q--kXe9zoutk"
      },
      "execution_count": 7,
      "outputs": []
    },
    {
      "cell_type": "code",
      "source": [
        "# definir las listas\n",
        "\n",
        "lista1 = [1,2,3,10]\n",
        "lista2 = [2,3,4,5]\n",
        "list (zip(lista1, lista2))"
      ],
      "metadata": {
        "colab": {
          "base_uri": "https://localhost:8080/"
        },
        "id": "bR_H4dTVpOnD",
        "outputId": "7578e876-d2df-47d0-8ca9-b6e4b4c3ed1f"
      },
      "execution_count": 8,
      "outputs": [
        {
          "output_type": "execute_result",
          "data": {
            "text/plain": [
              "[(1, 2), (2, 3), (3, 4), (10, 5)]"
            ]
          },
          "metadata": {},
          "execution_count": 8
        }
      ]
    },
    {
      "cell_type": "code",
      "source": [
        "# agregar a una lista vacia\n",
        "\n",
        "Lista3 = []\n",
        "\n",
        "for x,y in zip(lista1, lista2):\n",
        "  Lista3.append(compare(x,y))\n",
        "\n",
        "Lista3"
      ],
      "metadata": {
        "colab": {
          "base_uri": "https://localhost:8080/"
        },
        "id": "ka6x_3kVpQ5v",
        "outputId": "f82a86bc-8071-4c2b-f061-776495ff3bf9"
      },
      "execution_count": 10,
      "outputs": [
        {
          "output_type": "execute_result",
          "data": {
            "text/plain": [
              "[False, False, False, True]"
            ]
          },
          "metadata": {},
          "execution_count": 10
        }
      ]
    },
    {
      "cell_type": "code",
      "source": [
        "# como lista de comprension\n",
        "\n",
        "[compare(x,y) for x,y in zip(lista1,lista2)]"
      ],
      "metadata": {
        "colab": {
          "base_uri": "https://localhost:8080/"
        },
        "id": "cRYjH6PSqo4H",
        "outputId": "8b5bfeb8-60dd-4b03-ac6f-a965e02304e4"
      },
      "execution_count": 11,
      "outputs": [
        {
          "output_type": "execute_result",
          "data": {
            "text/plain": [
              "[False, False, False, True]"
            ]
          },
          "metadata": {},
          "execution_count": 11
        }
      ]
    }
  ]
}